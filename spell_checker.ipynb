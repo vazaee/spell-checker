{
  "cells": [
    {
      "cell_type": "code",
      "execution_count": 1,
      "metadata": {
        "colab": {
          "base_uri": "https://localhost:8080/"
        },
        "id": "3oTDWF9-9WFf",
        "outputId": "45b68df2-2e30-4b15-abe5-9afb9c9b4e7c"
      },
      "outputs": [
        {
          "name": "stderr",
          "output_type": "stream",
          "text": [
            "[nltk_data] Downloading package punkt to\n",
            "[nltk_data]     C:\\Users\\gabri\\AppData\\Roaming\\nltk_data...\n",
            "[nltk_data]   Package punkt is already up-to-date!\n"
          ]
        },
        {
          "data": {
            "text/plain": [
              "True"
            ]
          },
          "execution_count": 1,
          "metadata": {},
          "output_type": "execute_result"
        }
      ],
      "source": [
        "import nltk\n",
        "nltk.download('punkt')"
      ]
    },
    {
      "cell_type": "code",
      "execution_count": 2,
      "metadata": {
        "colab": {
          "base_uri": "https://localhost:8080/"
        },
        "id": "xXNyzm4dRik1",
        "outputId": "7c837cc7-63e1-496f-9e69-f1de2a04b771"
      },
      "outputs": [
        {
          "name": "stdout",
          "output_type": "stream",
          "text": [
            "\n",
            "\n",
            "\n",
            "imagem \n",
            "\n",
            "Temos a seguinte classe que representa um usuário no nosso sistema:\n",
            "\n",
            "java\n",
            "\n",
            "Para salvar um novo usuário, várias validações são feitas, como por exemplo: Ver se o nome só contém letras, [**o CPF só números**] e ver se o usuário possui no mínimo 18 anos. Veja o método que faz essa validação:\n",
            "\n",
            "java \n",
            "\n",
            "Suponha agora que eu tenha outra classe, a classe `Produto`, que contém um atributo nome e eu quero fazer a mesma validação que fiz para o nome do usuário: Ver se só contém letras. E aí? Vou\n"
          ]
        }
      ],
      "source": [
        "with open(\"data/artigos.txt\", \"r\", encoding=\"utf-8\") as f:\n",
        "    articles = f.read()\n",
        "\n",
        "print(articles[:500])"
      ]
    },
    {
      "cell_type": "code",
      "execution_count": 3,
      "metadata": {
        "id": "tbJ6zpKM9HkU"
      },
      "outputs": [],
      "source": [
        "splited_words = nltk.tokenize.word_tokenize(articles)"
      ]
    },
    {
      "cell_type": "code",
      "execution_count": 4,
      "metadata": {
        "colab": {
          "base_uri": "https://localhost:8080/"
        },
        "id": "jkroQWI--GrP",
        "outputId": "6c44b32a-dc78-4a75-ca99-86dd562b446f"
      },
      "outputs": [
        {
          "data": {
            "text/plain": [
              "['imagem',\n",
              " 'Temos',\n",
              " 'a',\n",
              " 'seguinte',\n",
              " 'classe',\n",
              " 'que',\n",
              " 'representa',\n",
              " 'um',\n",
              " 'usuário',\n",
              " 'no']"
            ]
          },
          "execution_count": 4,
          "metadata": {},
          "output_type": "execute_result"
        }
      ],
      "source": [
        "splited_words[:10]"
      ]
    },
    {
      "cell_type": "code",
      "execution_count": 5,
      "metadata": {
        "id": "AmA3P0Kj-03q"
      },
      "outputs": [],
      "source": [
        "def split_words(token_list):\n",
        "    words_list = []\n",
        "    for token in token_list:\n",
        "        if token.isalpha():\n",
        "            words_list.append(token)\n",
        "    return words_list"
      ]
    },
    {
      "cell_type": "code",
      "execution_count": 6,
      "metadata": {
        "colab": {
          "base_uri": "https://localhost:8080/"
        },
        "id": "shkagIhu_n3f",
        "outputId": "97204a93-d196-414c-e95c-304d5f714995"
      },
      "outputs": [
        {
          "name": "stdout",
          "output_type": "stream",
          "text": [
            "The number of words is 403031\n"
          ]
        }
      ],
      "source": [
        "words_list = split_words(splited_words)\n",
        "print(f\"The number of words is {len(words_list)}\")"
      ]
    },
    {
      "cell_type": "code",
      "execution_count": 7,
      "metadata": {
        "colab": {
          "base_uri": "https://localhost:8080/"
        },
        "id": "DsSW3yVyBcSv",
        "outputId": "058a3420-0b81-49cc-cf19-01bec658d6d7"
      },
      "outputs": [
        {
          "name": "stdout",
          "output_type": "stream",
          "text": [
            "['imagem', 'Temos', 'a', 'seguinte', 'classe']\n"
          ]
        }
      ],
      "source": [
        "print(words_list[:5])"
      ]
    },
    {
      "cell_type": "code",
      "execution_count": 8,
      "metadata": {
        "id": "vkxagMqxBjTm"
      },
      "outputs": [],
      "source": [
        "def normalize(words_list):\n",
        "    normalized_list = []\n",
        "    for word in words_list:\n",
        "        normalized_list.append(word.lower())\n",
        "    return normalized_list"
      ]
    },
    {
      "cell_type": "code",
      "execution_count": 9,
      "metadata": {
        "colab": {
          "base_uri": "https://localhost:8080/"
        },
        "id": "RRXKthCXB-SJ",
        "outputId": "06d0c793-6a28-4658-f5b5-bb9d5286b82b"
      },
      "outputs": [
        {
          "name": "stdout",
          "output_type": "stream",
          "text": [
            "['imagem', 'temos', 'a', 'seguinte', 'classe']\n"
          ]
        }
      ],
      "source": [
        "normalized_list = normalize(words_list)\n",
        "print(normalized_list[:5])"
      ]
    },
    {
      "cell_type": "code",
      "execution_count": null,
      "metadata": {
        "id": "7FNhj-hPDM2I"
      },
      "outputs": [],
      "source": []
    }
  ],
  "metadata": {
    "colab": {
      "provenance": []
    },
    "kernelspec": {
      "display_name": "Python 3.10.7 64-bit",
      "language": "python",
      "name": "python3"
    },
    "language_info": {
      "codemirror_mode": {
        "name": "ipython",
        "version": 3
      },
      "file_extension": ".py",
      "mimetype": "text/x-python",
      "name": "python",
      "nbconvert_exporter": "python",
      "pygments_lexer": "ipython3",
      "version": "3.10.7"
    },
    "vscode": {
      "interpreter": {
        "hash": "b1be5a1e9e85905d3e4e97ef1b769f5caa870a8a58c9f9e0ae488b6f0a0e1baf"
      }
    }
  },
  "nbformat": 4,
  "nbformat_minor": 0
}
